{
 "cells": [
  {
   "cell_type": "code",
   "execution_count": 1,
   "id": "b7456969",
   "metadata": {},
   "outputs": [
    {
     "name": "stdout",
     "output_type": "stream",
     "text": [
      "23/03/27 19:08:09 WARN Utils: Your hostname, Adityas-MacBook-Air.local resolves to a loopback address: 127.0.0.1; using 130.85.234.174 instead (on interface en0)\n",
      "23/03/27 19:08:09 WARN Utils: Set SPARK_LOCAL_IP if you need to bind to another address\n"
     ]
    },
    {
     "name": "stderr",
     "output_type": "stream",
     "text": [
      "Setting default log level to \"WARN\".\n",
      "To adjust logging level use sc.setLogLevel(newLevel). For SparkR, use setLogLevel(newLevel).\n"
     ]
    },
    {
     "name": "stdout",
     "output_type": "stream",
     "text": [
      "23/03/27 19:08:10 WARN NativeCodeLoader: Unable to load native-hadoop library for your platform... using builtin-java classes where applicable\n"
     ]
    }
   ],
   "source": [
    "from pyspark.sql import SparkSession\n",
    "\n",
    "spark = SparkSession.builder.appName(\"Assignment03\").getOrCreate()"
   ]
  },
  {
   "cell_type": "code",
   "execution_count": 2,
   "id": "0e1436ac",
   "metadata": {},
   "outputs": [
    {
     "data": {
      "text/html": [
       "\n",
       "            <div>\n",
       "                <p><b>SparkSession - in-memory</b></p>\n",
       "                \n",
       "        <div>\n",
       "            <p><b>SparkContext</b></p>\n",
       "\n",
       "            <p><a href=\"http://130.85.234.174:4040\">Spark UI</a></p>\n",
       "\n",
       "            <dl>\n",
       "              <dt>Version</dt>\n",
       "                <dd><code>v3.3.2</code></dd>\n",
       "              <dt>Master</dt>\n",
       "                <dd><code>local[*]</code></dd>\n",
       "              <dt>AppName</dt>\n",
       "                <dd><code>Assignment03</code></dd>\n",
       "            </dl>\n",
       "        </div>\n",
       "        \n",
       "            </div>\n",
       "        "
      ],
      "text/plain": [
       "<pyspark.sql.session.SparkSession at 0x1080de8b0>"
      ]
     },
     "execution_count": 2,
     "metadata": {},
     "output_type": "execute_result"
    }
   ],
   "source": [
    "spark"
   ]
  },
  {
   "cell_type": "code",
   "execution_count": 58,
   "id": "2fb19d1d",
   "metadata": {},
   "outputs": [],
   "source": [
    "from pyspark.sql.types import StructType, StructField, StringType, IntegerType, DoubleType, TimestampType\n",
    "\n",
    "crime_schema = StructType([\n",
    "    StructField('ID', IntegerType(), True),\n",
    "    StructField('Case_Number', StringType(), True),\n",
    "    StructField('Date', StringType(), True),\n",
    "    StructField('Block', StringType(), True),\n",
    "    StructField('IUCR', StringType(), True),\n",
    "    StructField('Primary_Type', StringType(), True),\n",
    "    StructField('Description', StringType(), True),\n",
    "    StructField('Location_Description', StringType(), True),\n",
    "    StructField('Arrest', StringType(), True),\n",
    "    StructField('Domestic', StringType(), True),\n",
    "    StructField('Beat', StringType(), True),\n",
    "    StructField('District', StringType(), True),\n",
    "    StructField('Ward', StringType(), True),\n",
    "    StructField('Community_Area', StringType(), True),\n",
    "    StructField('FBI_Code', StringType(), True),\n",
    "    StructField('X_Coordinate', StringType(), True),\n",
    "    StructField('Y_Coordinate', StringType(), True),\n",
    "    StructField('Year', IntegerType(), True),\n",
    "    StructField('Updated_On', StringType(), True),\n",
    "    StructField('Latitude', DoubleType(), True),\n",
    "    StructField('Longitude', DoubleType(), True),\n",
    "    StructField('Location', StringType(), True)\n",
    "])\n"
   ]
  },
  {
   "cell_type": "code",
   "execution_count": 59,
   "id": "599b2ad0",
   "metadata": {},
   "outputs": [],
   "source": [
    "crime_data = spark.read.csv('/Users/adityakiran/Desktop/DATA 603/Assignment 03/Crimes_-_2001_to_Present.csv', header=True, schema=crime_schema)"
   ]
  },
  {
   "cell_type": "code",
   "execution_count": 60,
   "id": "0c7ad4c1",
   "metadata": {},
   "outputs": [
    {
     "name": "stderr",
     "output_type": "stream",
     "text": [
      "                                                                                \r"
     ]
    },
    {
     "data": {
      "text/plain": [
       "7752207"
      ]
     },
     "execution_count": 60,
     "metadata": {},
     "output_type": "execute_result"
    }
   ],
   "source": [
    "crime_data.count() #returns the number of records"
   ]
  },
  {
   "cell_type": "code",
   "execution_count": 61,
   "id": "180214d2",
   "metadata": {},
   "outputs": [],
   "source": [
    "crime_data = crime_data.na.drop() # dropping the rows with null values "
   ]
  },
  {
   "cell_type": "code",
   "execution_count": 62,
   "id": "fee27de8",
   "metadata": {},
   "outputs": [
    {
     "name": "stdout",
     "output_type": "stream",
     "text": [
      "23/03/27 19:39:49 WARN CSVHeaderChecker: CSV header does not conform to the schema.\n",
      " Header: ID, Case Number, Date, Block, IUCR, Primary Type, Description, Location Description, Arrest, Domestic, Beat, District, Ward, Community Area, FBI Code, X Coordinate, Y Coordinate, Year, Updated On, Latitude, Longitude, Location\n",
      " Schema: ID, Case_Number, Date, Block, IUCR, Primary_Type, Description, Location_Description, Arrest, Domestic, Beat, District, Ward, Community_Area, FBI_Code, X_Coordinate, Y_Coordinate, Year, Updated_On, Latitude, Longitude, Location\n",
      "Expected: Case_Number but found: Case Number\n",
      "CSV file: file:///Users/adityakiran/Desktop/DATA%20603/Assignment%2003/Crimes_-_2001_to_Present.csv\n"
     ]
    },
    {
     "name": "stderr",
     "output_type": "stream",
     "text": [
      "                                                                                \r"
     ]
    },
    {
     "data": {
      "text/plain": [
       "7053558"
      ]
     },
     "execution_count": 62,
     "metadata": {},
     "output_type": "execute_result"
    }
   ],
   "source": [
    "crime_data.count() # checking if the records are removed"
   ]
  },
  {
   "cell_type": "code",
   "execution_count": 63,
   "id": "32ef0838",
   "metadata": {},
   "outputs": [
    {
     "name": "stdout",
     "output_type": "stream",
     "text": [
      "23/03/27 19:39:56 WARN CSVHeaderChecker: CSV header does not conform to the schema.\n",
      " Header: ID, Case Number, Date, Block, IUCR, Primary Type, Description, Location Description, Arrest, Domestic, Beat, District, Ward, Community Area, FBI Code, X Coordinate, Y Coordinate, Year, Updated On, Latitude, Longitude, Location\n",
      " Schema: ID, Case_Number, Date, Block, IUCR, Primary_Type, Description, Location_Description, Arrest, Domestic, Beat, District, Ward, Community_Area, FBI_Code, X_Coordinate, Y_Coordinate, Year, Updated_On, Latitude, Longitude, Location\n",
      "Expected: Case_Number but found: Case Number\n",
      "CSV file: file:///Users/adityakiran/Desktop/DATA%20603/Assignment%2003/Crimes_-_2001_to_Present.csv\n",
      "+--------------------+\n",
      "|                Date|\n",
      "+--------------------+\n",
      "|09/05/2015 01:30:...|\n",
      "|09/04/2015 11:30:...|\n",
      "|09/05/2015 12:45:...|\n",
      "|09/05/2015 01:00:...|\n",
      "|09/05/2015 10:55:...|\n",
      "|09/04/2015 06:00:...|\n",
      "|09/05/2015 01:00:...|\n",
      "|09/05/2015 11:30:...|\n",
      "|09/05/2015 02:00:...|\n",
      "|09/05/2015 11:00:...|\n",
      "|09/05/2015 03:00:...|\n",
      "|09/05/2015 12:50:...|\n",
      "|09/03/2015 01:00:...|\n",
      "|09/05/2015 11:45:...|\n",
      "|09/05/2015 01:30:...|\n",
      "|07/08/2015 12:00:...|\n",
      "|09/05/2015 09:55:...|\n",
      "|09/05/2015 12:35:...|\n",
      "|09/04/2015 10:30:...|\n",
      "|09/02/2015 12:01:...|\n",
      "+--------------------+\n",
      "only showing top 20 rows\n",
      "\n"
     ]
    }
   ],
   "source": [
    "crime_data.select(\"Date\").show() # working on the date column"
   ]
  },
  {
   "cell_type": "code",
   "execution_count": 64,
   "id": "711c9c44",
   "metadata": {},
   "outputs": [],
   "source": [
    "# Changing the data type of teh column 'date' to timestamp\n",
    "\n",
    "from pyspark.sql.functions import to_timestamp\n",
    "\n",
    "crime_data = crime_data.withColumn('Date', to_timestamp(crime_data['Date'], 'MM/dd/yyyy hh:mm:ss a')) "
   ]
  },
  {
   "cell_type": "code",
   "execution_count": 65,
   "id": "9f5851f7",
   "metadata": {},
   "outputs": [
    {
     "name": "stdout",
     "output_type": "stream",
     "text": [
      "root\n",
      " |-- ID: integer (nullable = true)\n",
      " |-- Case_Number: string (nullable = true)\n",
      " |-- Date: timestamp (nullable = true)\n",
      " |-- Block: string (nullable = true)\n",
      " |-- IUCR: string (nullable = true)\n",
      " |-- Primary_Type: string (nullable = true)\n",
      " |-- Description: string (nullable = true)\n",
      " |-- Location_Description: string (nullable = true)\n",
      " |-- Arrest: string (nullable = true)\n",
      " |-- Domestic: string (nullable = true)\n",
      " |-- Beat: string (nullable = true)\n",
      " |-- District: string (nullable = true)\n",
      " |-- Ward: string (nullable = true)\n",
      " |-- Community_Area: string (nullable = true)\n",
      " |-- FBI_Code: string (nullable = true)\n",
      " |-- X_Coordinate: string (nullable = true)\n",
      " |-- Y_Coordinate: string (nullable = true)\n",
      " |-- Year: integer (nullable = true)\n",
      " |-- Updated_On: string (nullable = true)\n",
      " |-- Latitude: double (nullable = true)\n",
      " |-- Longitude: double (nullable = true)\n",
      " |-- Location: string (nullable = true)\n",
      "\n"
     ]
    }
   ],
   "source": [
    "crime_data.printSchema()"
   ]
  },
  {
   "cell_type": "code",
   "execution_count": 66,
   "id": "48e839b6",
   "metadata": {},
   "outputs": [],
   "source": [
    "# Filtering the data only for the last 10 years\n",
    "\n",
    "from pyspark.sql.functions import year, current_date\n",
    "crime_data = crime_data.filter(year('Date') >= (year(current_date()) - 10))"
   ]
  },
  {
   "cell_type": "code",
   "execution_count": 67,
   "id": "7f281515",
   "metadata": {},
   "outputs": [
    {
     "name": "stdout",
     "output_type": "stream",
     "text": [
      "23/03/27 19:40:03 WARN CSVHeaderChecker: CSV header does not conform to the schema.\n",
      " Header: ID, Case Number, Date, Block, IUCR, Primary Type, Description, Location Description, Arrest, Domestic, Beat, District, Ward, Community Area, FBI Code, X Coordinate, Y Coordinate, Year, Updated On, Latitude, Longitude, Location\n",
      " Schema: ID, Case_Number, Date, Block, IUCR, Primary_Type, Description, Location_Description, Arrest, Domestic, Beat, District, Ward, Community_Area, FBI_Code, X_Coordinate, Y_Coordinate, Year, Updated_On, Latitude, Longitude, Location\n",
      "Expected: Case_Number but found: Case Number\n",
      "CSV file: file:///Users/adityakiran/Desktop/DATA%20603/Assignment%2003/Crimes_-_2001_to_Present.csv\n"
     ]
    },
    {
     "name": "stderr",
     "output_type": "stream",
     "text": [
      "                                                                                \r"
     ]
    },
    {
     "data": {
      "text/plain": [
       "2573166"
      ]
     },
     "execution_count": 67,
     "metadata": {},
     "output_type": "execute_result"
    }
   ],
   "source": [
    "crime_data.count()"
   ]
  },
  {
   "cell_type": "code",
   "execution_count": 68,
   "id": "c252418a",
   "metadata": {},
   "outputs": [],
   "source": [
    "# Removing the records with the crime types listed\n",
    "\n",
    "from pyspark.sql.functions import col\n",
    "\n",
    "# list of crime types to remove\n",
    "crime_types_to_remove = ['NON-CRIMINAL (SUBJECT SPECIFIED)', 'OTHER OFFENSE', 'STALKING', 'NON - CRIMINAL', 'ARSON']\n",
    "\n",
    "# filtering the crime_data DataFrame to remove the specified crime types\n",
    "crime_data = crime_data.filter(~col('Primary_Type').isin(crime_types_to_remove))\n"
   ]
  },
  {
   "cell_type": "code",
   "execution_count": 69,
   "id": "65d59f31",
   "metadata": {},
   "outputs": [
    {
     "name": "stdout",
     "output_type": "stream",
     "text": [
      "23/03/27 19:40:11 WARN CSVHeaderChecker: CSV header does not conform to the schema.\n",
      " Header: ID, Case Number, Date, Block, IUCR, Primary Type, Description, Location Description, Arrest, Domestic, Beat, District, Ward, Community Area, FBI Code, X Coordinate, Y Coordinate, Year, Updated On, Latitude, Longitude, Location\n",
      " Schema: ID, Case_Number, Date, Block, IUCR, Primary_Type, Description, Location_Description, Arrest, Domestic, Beat, District, Ward, Community_Area, FBI_Code, X_Coordinate, Y_Coordinate, Year, Updated_On, Latitude, Longitude, Location\n",
      "Expected: Case_Number but found: Case Number\n",
      "CSV file: file:///Users/adityakiran/Desktop/DATA%20603/Assignment%2003/Crimes_-_2001_to_Present.csv\n"
     ]
    },
    {
     "name": "stderr",
     "output_type": "stream",
     "text": [
      "                                                                                \r"
     ]
    },
    {
     "data": {
      "text/plain": [
       "2403368"
      ]
     },
     "execution_count": 69,
     "metadata": {},
     "output_type": "execute_result"
    }
   ],
   "source": [
    "crime_data.count()"
   ]
  },
  {
   "cell_type": "code",
   "execution_count": 70,
   "id": "9789c06c",
   "metadata": {},
   "outputs": [],
   "source": [
    "from pyspark.sql.functions import when\n",
    "\n",
    "crime_data = crime_data.withColumn('Primary_Type', when((crime_data['Primary_Type'] == 'SEX OFFENSE') | (crime_data['Primary_Type'] == 'PROSTITUTION'), 'SEX OFFENSE/PROSTITUTION')\n",
    "                        .when((crime_data['Primary_Type'] == 'THEFT') | (crime_data['Primary_Type'] == 'BURGLARY') | (crime_data['Primary_Type'] == 'ROBBERY'), 'THEFT/ROBBERY/BURGLARY')\n",
    "                        .when((crime_data['Primary_Type'] == 'ASSAULT') | (crime_data['Primary_Type'] == 'BATTERY'), 'ASSAULT/BATTERY')\n",
    "                        .when((crime_data['Primary_Type'] == 'MOTOR VEHICLE THEFT') | (crime_data['Primary_Type'] == 'ARSON'), 'MOTOR VEHICLE THEFT/ARSON')\n",
    "                        .when((crime_data['Primary_Type'] == 'CRIMINAL DAMAGE') | (crime_data['Primary_Type'] == 'CRIMINAL TRESPASS'), 'CRIMINAL DAMAGE/TRESPASS')\n",
    "                        .otherwise(crime_data['Primary_Type']))\n"
   ]
  },
  {
   "cell_type": "code",
   "execution_count": 72,
   "id": "f6d06cba",
   "metadata": {},
   "outputs": [
    {
     "name": "stdout",
     "output_type": "stream",
     "text": [
      "23/03/27 19:40:41 WARN CSVHeaderChecker: CSV header does not conform to the schema.\n",
      " Header: ID, Case Number, Date, Block, IUCR, Primary Type, Description, Location Description, Arrest, Domestic, Beat, District, Ward, Community Area, FBI Code, X Coordinate, Y Coordinate, Year, Updated On, Latitude, Longitude, Location\n",
      " Schema: ID, Case_Number, Date, Block, IUCR, Primary_Type, Description, Location_Description, Arrest, Domestic, Beat, District, Ward, Community_Area, FBI_Code, X_Coordinate, Y_Coordinate, Year, Updated_On, Latitude, Longitude, Location\n",
      "Expected: Case_Number but found: Case Number\n",
      "CSV file: file:///Users/adityakiran/Desktop/DATA%20603/Assignment%2003/Crimes_-_2001_to_Present.csv\n"
     ]
    },
    {
     "name": "stderr",
     "output_type": "stream",
     "text": [
      "[Stage 82:================================================>       (12 + 2) / 14]\r"
     ]
    },
    {
     "name": "stdout",
     "output_type": "stream",
     "text": [
      "+----+-----------+\n",
      "|Year|Crime_Count|\n",
      "+----+-----------+\n",
      "|2018|     245309|\n",
      "|2015|     239886|\n",
      "|2022|     217534|\n",
      "|2013|     287835|\n",
      "|2014|     256126|\n",
      "|2019|     240839|\n",
      "|2020|     194262|\n",
      "|2016|     248587|\n",
      "|2017|     246560|\n",
      "|2021|     187731|\n",
      "|2023|      38699|\n",
      "+----+-----------+\n",
      "\n"
     ]
    },
    {
     "name": "stderr",
     "output_type": "stream",
     "text": [
      "\r",
      "[Stage 82:====================================================>   (13 + 1) / 14]\r",
      "\r",
      "                                                                                \r"
     ]
    }
   ],
   "source": [
    "from pyspark.sql.functions import year, count\n",
    "\n",
    "# grouping the data by Year\n",
    "yearly_crime_counts = crime_data.groupBy(year('Date').alias('Year')).agg(count('*').alias('Crime_Count'))\n",
    "\n",
    "# filtering the data to include only the last ten years\n",
    "current_year = 2023\n",
    "yearly_crime_counts_last_ten_years = yearly_crime_counts.filter(yearly_crime_counts['Year'] >= current_year - 10)\n",
    "\n",
    "yearly_crime_counts_last_ten_years.show()"
   ]
  },
  {
   "cell_type": "code",
   "execution_count": 73,
   "id": "e55c43b8",
   "metadata": {},
   "outputs": [
    {
     "name": "stdout",
     "output_type": "stream",
     "text": [
      "23/03/27 19:40:49 WARN CSVHeaderChecker: CSV header does not conform to the schema.\n",
      " Header: ID, Case Number, Date, Block, IUCR, Primary Type, Description, Location Description, Arrest, Domestic, Beat, District, Ward, Community Area, FBI Code, X Coordinate, Y Coordinate, Year, Updated On, Latitude, Longitude, Location\n",
      " Schema: ID, Case_Number, Date, Block, IUCR, Primary_Type, Description, Location_Description, Arrest, Domestic, Beat, District, Ward, Community_Area, FBI_Code, X_Coordinate, Y_Coordinate, Year, Updated_On, Latitude, Longitude, Location\n",
      "Expected: Case_Number but found: Case Number\n",
      "CSV file: file:///Users/adityakiran/Desktop/DATA%20603/Assignment%2003/Crimes_-_2001_to_Present.csv\n"
     ]
    },
    {
     "name": "stderr",
     "output_type": "stream",
     "text": [
      "                                                                                \r"
     ]
    },
    {
     "data": {
      "image/png": "[encoded data removed]",
      "text/plain": [
       "<Figure size 432x288 with 1 Axes>"
      ]
     },
     "metadata": {
      "needs_background": "light"
     },
     "output_type": "display_data"
    }
   ],
   "source": [
    "import matplotlib.pyplot as plt\n",
    "import pandas as pd\n",
    "\n",
    "# convert the Spark DataFrame to a Pandas DataFrame\n",
    "yearly_crime_counts_pd = yearly_crime_counts_last_ten_years.toPandas()\n",
    "\n",
    "# creating a bar graph\n",
    "plt.bar(yearly_crime_counts_pd['Year'], yearly_crime_counts_pd['Crime_Count'], align='center', alpha=0.5)\n",
    "plt.xticks(yearly_crime_counts_pd['Year'])\n",
    "plt.title('Year-wise trend of crime for last ten years')\n",
    "plt.xlabel('Year')\n",
    "plt.ylabel('Crime count')\n",
    "plt.show()"
   ]
  },
  {
   "cell_type": "code",
   "execution_count": 76,
   "id": "7a1c55d6",
   "metadata": {},
   "outputs": [
    {
     "name": "stdout",
     "output_type": "stream",
     "text": [
      "23/03/27 19:41:17 WARN CSVHeaderChecker: CSV header does not conform to the schema.\n",
      " Header: ID, Case Number, Date, Block, IUCR, Primary Type, Description, Location Description, Arrest, Domestic, Beat, District, Ward, Community Area, FBI Code, X Coordinate, Y Coordinate, Year, Updated On, Latitude, Longitude, Location\n",
      " Schema: ID, Case_Number, Date, Block, IUCR, Primary_Type, Description, Location_Description, Arrest, Domestic, Beat, District, Ward, Community_Area, FBI_Code, X_Coordinate, Y_Coordinate, Year, Updated_On, Latitude, Longitude, Location\n",
      "Expected: Case_Number but found: Case Number\n",
      "CSV file: file:///Users/adityakiran/Desktop/DATA%20603/Assignment%2003/Crimes_-_2001_to_Present.csv\n"
     ]
    },
    {
     "name": "stderr",
     "output_type": "stream",
     "text": [
      "[Stage 99:========================================>               (10 + 4) / 14]\r"
     ]
    },
    {
     "name": "stdout",
     "output_type": "stream",
     "text": [
      "+----+---------+\n",
      "|Hour|count(ID)|\n",
      "+----+---------+\n",
      "|   0|   128206|\n",
      "|   1|    75110|\n",
      "|   2|    65242|\n",
      "|   3|    54214|\n",
      "|   4|    42501|\n",
      "|   5|    36661|\n",
      "|   6|    41859|\n",
      "|   7|    57088|\n",
      "|   8|    80785|\n",
      "|   9|   105017|\n",
      "|  10|   104545|\n",
      "|  11|   108413|\n",
      "|  12|   139480|\n",
      "|  13|   114748|\n",
      "|  14|   120658|\n",
      "|  15|   131870|\n",
      "|  16|   127567|\n",
      "|  17|   129378|\n",
      "|  18|   135415|\n",
      "|  19|   135207|\n",
      "|  20|   129403|\n",
      "|  21|   120976|\n",
      "|  22|   119000|\n",
      "|  23|   100025|\n",
      "+----+---------+\n",
      "\n"
     ]
    },
    {
     "name": "stderr",
     "output_type": "stream",
     "text": [
      "\r",
      "[Stage 99:================================================>       (12 + 2) / 14]\r",
      "\r",
      "                                                                                \r"
     ]
    }
   ],
   "source": [
    "from pyspark.sql.functions import hour\n",
    "\n",
    "# grouping the data by the hour\n",
    "hourly_crime_counts = crime_data.groupBy(hour('Date').alias('Hour')) \\\n",
    "    .agg({'ID': 'count'}) \\\n",
    "    .orderBy('Hour')\n",
    "\n",
    "hourly_crime_counts.show(24)"
   ]
  },
  {
   "cell_type": "code",
   "execution_count": 77,
   "id": "df367a4d",
   "metadata": {},
   "outputs": [
    {
     "name": "stdout",
     "output_type": "stream",
     "text": [
      "23/03/27 19:41:26 WARN CSVHeaderChecker: CSV header does not conform to the schema.\n",
      " Header: ID, Case Number, Date, Block, IUCR, Primary Type, Description, Location Description, Arrest, Domestic, Beat, District, Ward, Community Area, FBI Code, X Coordinate, Y Coordinate, Year, Updated On, Latitude, Longitude, Location\n",
      " Schema: ID, Case_Number, Date, Block, IUCR, Primary_Type, Description, Location_Description, Arrest, Domestic, Beat, District, Ward, Community_Area, FBI_Code, X_Coordinate, Y_Coordinate, Year, Updated_On, Latitude, Longitude, Location\n",
      "Expected: Case_Number but found: Case Number\n",
      "CSV file: file:///Users/adityakiran/Desktop/DATA%20603/Assignment%2003/Crimes_-_2001_to_Present.csv\n"
     ]
    },
    {
     "name": "stderr",
     "output_type": "stream",
     "text": [
      "                                                                                \r"
     ]
    },
    {
     "data": {
      "image/png": "[encoded data removed]",
      "text/plain": [
       "<Figure size 432x288 with 1 Axes>"
      ]
     },
     "metadata": {
      "needs_background": "light"
     },
     "output_type": "display_data"
    }
   ],
   "source": [
    "import matplotlib.pyplot as plt\n",
    "import pandas as pd\n",
    "\n",
    "hourly_crime_counts_pd = hourly_crime_counts.toPandas()\n",
    "\n",
    "# creating a bar graph\n",
    "plt.bar(hourly_crime_counts_pd['Hour'], hourly_crime_counts_pd['count(ID)'])\n",
    "plt.title('Hourly crime counts')\n",
    "plt.xlabel('Hour of the day')\n",
    "plt.ylabel('Number of crimes')\n",
    "plt.show()"
   ]
  },
  {
   "cell_type": "code",
   "execution_count": 78,
   "id": "dafdd9f2",
   "metadata": {},
   "outputs": [
    {
     "name": "stdout",
     "output_type": "stream",
     "text": [
      "23/03/27 19:41:37 WARN CSVHeaderChecker: CSV header does not conform to the schema.\n",
      " Header: ID, Case Number, Date, Block, IUCR, Primary Type, Description, Location Description, Arrest, Domestic, Beat, District, Ward, Community Area, FBI Code, X Coordinate, Y Coordinate, Year, Updated On, Latitude, Longitude, Location\n",
      " Schema: ID, Case_Number, Date, Block, IUCR, Primary_Type, Description, Location_Description, Arrest, Domestic, Beat, District, Ward, Community_Area, FBI_Code, X_Coordinate, Y_Coordinate, Year, Updated_On, Latitude, Longitude, Location\n",
      "Expected: Case_Number but found: Case Number\n",
      "CSV file: file:///Users/adityakiran/Desktop/DATA%20603/Assignment%2003/Crimes_-_2001_to_Present.csv\n"
     ]
    },
    {
     "name": "stderr",
     "output_type": "stream",
     "text": [
      "                                                                                \r"
     ]
    },
    {
     "data": {
      "image/png": "[encoded data removed]",
      "text/plain": [
       "<Figure size 432x288 with 1 Axes>"
      ]
     },
     "metadata": {
      "needs_background": "light"
     },
     "output_type": "display_data"
    }
   ],
   "source": [
    "from pyspark.sql.functions import desc\n",
    "\n",
    "# grouping the data by Primary_Type\n",
    "crime_counts = crime_data.groupBy('Primary_Type').count()\n",
    "\n",
    "# selecting the top 10\n",
    "top_crimes = crime_counts.sort(desc('count')).limit(10)\n",
    "\n",
    "top_crimes_pd = top_crimes.toPandas()\n",
    "\n",
    "# creating a bar graph\n",
    "plt.bar(top_crimes_pd['Primary_Type'], top_crimes_pd['count'])\n",
    "plt.title('Top ten crimes')\n",
    "plt.xlabel('Crime type')\n",
    "plt.ylabel('Number of occurrences')\n",
    "plt.xticks(rotation=90)\n",
    "plt.show()"
   ]
  }
 ],
 "metadata": {
  "kernelspec": {
   "display_name": "Python 3 (ipykernel)",
   "language": "python",
   "name": "python3"
  },
  "language_info": {
   "codemirror_mode": {
    "name": "ipython",
    "version": 3
   },
   "file_extension": ".py",
   "mimetype": "text/x-python",
   "name": "python",
   "nbconvert_exporter": "python",
   "pygments_lexer": "ipython3",
   "version": "3.9.12"
  }
 },
 "nbformat": 4,
 "nbformat_minor": 5
}
